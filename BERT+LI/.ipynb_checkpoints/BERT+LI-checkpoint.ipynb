{
 "cells": [
  {
   "cell_type": "markdown",
   "metadata": {},
   "source": [
    "# 1. Importing libraries and datasets"
   ]
  },
  {
   "cell_type": "markdown",
   "metadata": {},
   "source": [
    "## 1.1 Importing torch"
   ]
  },
  {
   "cell_type": "code",
   "execution_count": 1,
   "metadata": {},
   "outputs": [
    {
     "name": "stdout",
     "output_type": "stream",
     "text": [
      "No GPU available, using the CPU instead.\n"
     ]
    }
   ],
   "source": [
    "import torch\n",
    "# check if we have cuda installed\n",
    "if torch.cuda.is_available():\n",
    "    # to use GPU\n",
    "    device = torch.device(\"cuda\")\n",
    "    print('There are %d GPU(s) available.' % torch.cuda.device_count())\n",
    "    print('GPU is:', torch.cuda.get_device_name(0))\n",
    "else:\n",
    "    print('No GPU available, using the CPU instead.')\n",
    "    device = torch.device(\"cpu\")"
   ]
  },
  {
   "cell_type": "markdown",
   "metadata": {},
   "source": [
    "## 1.2 Importing language detection\n",
    "\n",
    "- For Malay, we use dictionaries from IPA-Dict and Dewan Bahasa.\n",
    "- For English, we use NLTK corpus."
   ]
  },
  {
   "cell_type": "code",
   "execution_count": 2,
   "metadata": {},
   "outputs": [],
   "source": [
    "import json\n",
    "import nltk\n",
    "\n",
    "# my_raw1 = json.load(open('../dictionary/200k-english-malay.json'))\n",
    "# my_raw2 = open('../dictionary/en-ms.txt', encoding=\"utf8\")\n",
    "# my_raw3 = open('../dictionary/malay-ipa-dict.txt', encoding=\"utf8\")\n",
    "\n",
    "# my_raw1 = [x[1] for x in my_raw1]\n",
    "# my_raw2 = [x.split('\\t')[1].strip() for x in my_raw2.readlines()]\n",
    "# my_raw3 = [x.split('\\t')[0] for x in my_raw3.readlines()]\n",
    "\n",
    "# with open('../dictionary/combined-malay-dict.txt', 'w', encoding=\"utf8\") as fp:\n",
    "#     for item in sorted(list(dict.fromkeys(my_raw1 + my_raw2 + my_raw3))):\n",
    "#         if item:\n",
    "#             fp.write(\"%s\\n\" % item)\n",
    "\n",
    "with open('../dictionary/combined-malay-dict.txt', encoding=\"utf8\") as fp:\n",
    "    malay_dict = [x.strip() for x in fp.readlines()]\n",
    "    \n",
    "def detect_malay(text): return text in malay_dict\n",
    "def detect_english(text): return text in nltk.corpus.words.words()"
   ]
  },
  {
   "cell_type": "markdown",
   "metadata": {},
   "source": [
    "## 1.3 Importing and combining datasets"
   ]
  },
  {
   "cell_type": "code",
   "execution_count": 5,
   "metadata": {},
   "outputs": [
    {
     "data": {
      "text/html": [
       "<div>\n",
       "<style scoped>\n",
       "    .dataframe tbody tr th:only-of-type {\n",
       "        vertical-align: middle;\n",
       "    }\n",
       "\n",
       "    .dataframe tbody tr th {\n",
       "        vertical-align: top;\n",
       "    }\n",
       "\n",
       "    .dataframe thead th {\n",
       "        text-align: right;\n",
       "    }\n",
       "</style>\n",
       "<table border=\"1\" class=\"dataframe\">\n",
       "  <thead>\n",
       "    <tr style=\"text-align: right;\">\n",
       "      <th></th>\n",
       "      <th>text</th>\n",
       "      <th>sentiment</th>\n",
       "    </tr>\n",
       "  </thead>\n",
       "  <tbody>\n",
       "    <tr>\n",
       "      <th>0</th>\n",
       "      <td>Lebih-lebih lagi dengan  kemudahan internet da...</td>\n",
       "      <td>Negative</td>\n",
       "    </tr>\n",
       "    <tr>\n",
       "      <th>1</th>\n",
       "      <td>boleh memberi teguran kepada parti tetapi perl...</td>\n",
       "      <td>Positive</td>\n",
       "    </tr>\n",
       "    <tr>\n",
       "      <th>2</th>\n",
       "      <td>Adalah membingungkan mengapa masyarakat Cina b...</td>\n",
       "      <td>Negative</td>\n",
       "    </tr>\n",
       "    <tr>\n",
       "      <th>3</th>\n",
       "      <td>Kami menurunkan defisit daripada 6.7 peratus p...</td>\n",
       "      <td>Positive</td>\n",
       "    </tr>\n",
       "    <tr>\n",
       "      <th>4</th>\n",
       "      <td>Ini masalahnya. Bukan rakyat, tetapi sistem</td>\n",
       "      <td>Negative</td>\n",
       "    </tr>\n",
       "    <tr>\n",
       "      <th>...</th>\n",
       "      <td>...</td>\n",
       "      <td>...</td>\n",
       "    </tr>\n",
       "    <tr>\n",
       "      <th>515513</th>\n",
       "      <td>what game she play?</td>\n",
       "      <td>Negative</td>\n",
       "    </tr>\n",
       "    <tr>\n",
       "      <th>515514</th>\n",
       "      <td>Lots of PS3...</td>\n",
       "      <td>Positive</td>\n",
       "    </tr>\n",
       "    <tr>\n",
       "      <th>515515</th>\n",
       "      <td>Can't see the titles, but one of them says Bin...</td>\n",
       "      <td>Neutral</td>\n",
       "    </tr>\n",
       "    <tr>\n",
       "      <th>515516</th>\n",
       "      <td>Those look like old PS3 games.</td>\n",
       "      <td>Negative</td>\n",
       "    </tr>\n",
       "    <tr>\n",
       "      <th>515517</th>\n",
       "      <td>So she should be lao aunty by now.</td>\n",
       "      <td>Positive</td>\n",
       "    </tr>\n",
       "  </tbody>\n",
       "</table>\n",
       "<p>515518 rows × 2 columns</p>\n",
       "</div>"
      ],
      "text/plain": [
       "                                                     text sentiment\n",
       "0       Lebih-lebih lagi dengan  kemudahan internet da...  Negative\n",
       "1       boleh memberi teguran kepada parti tetapi perl...  Positive\n",
       "2       Adalah membingungkan mengapa masyarakat Cina b...  Negative\n",
       "3       Kami menurunkan defisit daripada 6.7 peratus p...  Positive\n",
       "4             Ini masalahnya. Bukan rakyat, tetapi sistem  Negative\n",
       "...                                                   ...       ...\n",
       "515513                                what game she play?  Negative\n",
       "515514                                     Lots of PS3...  Positive\n",
       "515515  Can't see the titles, but one of them says Bin...   Neutral\n",
       "515516                     Those look like old PS3 games.  Negative\n",
       "515517                 So she should be lao aunty by now.  Positive\n",
       "\n",
       "[515518 rows x 2 columns]"
      ]
     },
     "execution_count": 5,
     "metadata": {},
     "output_type": "execute_result"
    }
   ],
   "source": [
    "# # install pandas\n",
    "# !pip install pandas\n",
    "\n",
    "import pandas as pd\n",
    "combined_df = pd.DataFrame()\n",
    "\n",
    "# local-new: text + label*\n",
    "df = pd.read_csv(r'../data/malaya/local-news.csv')\n",
    "combined_df = pd.concat([combined_df, df[['text', 'label']].rename(columns={'label': 'sentiment'})])\n",
    "\n",
    "# semisupervised-bert-xlnet: text + label*\n",
    "df = pd.read_csv(r'../data/malaya/semisupervised-bert-xlnet.csv')\n",
    "combined_df = pd.concat([combined_df, df[['text', 'label']].rename(columns={'label': 'sentiment'})])\n",
    "\n",
    "# semisupervised-bert-xlnet: text + label*\n",
    "df = pd.read_csv(r'../data/malaya/semisupervised-politics-bert-xlnet.csv')\n",
    "combined_df = pd.concat([combined_df, df[['text', 'label']].rename(columns={'label': 'sentiment'})])\n",
    "\n",
    "# supervised-data: text + sentiment* \n",
    "df = pd.read_csv(r'../data/malaya/supervised-data.csv', sep='\\t')\n",
    "combined_df = pd.concat([combined_df, df[['text', 'sentiment']]])\n",
    "\n",
    "# supervised-data-politics: text + sentiment* \n",
    "df = pd.read_csv(r'../data/malaya/supervised-data-politics.csv', sep='\\t')\n",
    "combined_df = pd.concat([combined_df, df[['text', 'sentiment']]])\n",
    "\n",
    "# supervised-data-politics: text + sentiment* \n",
    "df = pd.read_csv(r'../data/malaya/manglish.csv', sep='\\t')\n",
    "df['sentiment'] = df['sentiment'].apply(lambda x: x.capitalize())\n",
    "combined_df = pd.concat([combined_df, df[['text', 'sentiment']]])\n",
    "\n",
    "combined_df = combined_df.reset_index()[['text', 'sentiment']]\n",
    "combined_df"
   ]
  },
  {
   "cell_type": "markdown",
   "metadata": {},
   "source": [
    "# 2. Data preprocessing"
   ]
  },
  {
   "cell_type": "markdown",
   "metadata": {},
   "source": [
    "## 2.1 Data Cleaning"
   ]
  },
  {
   "cell_type": "code",
   "execution_count": 16,
   "metadata": {
    "scrolled": true
   },
   "outputs": [
    {
     "data": {
      "text/html": [
       "<div>\n",
       "<style scoped>\n",
       "    .dataframe tbody tr th:only-of-type {\n",
       "        vertical-align: middle;\n",
       "    }\n",
       "\n",
       "    .dataframe tbody tr th {\n",
       "        vertical-align: top;\n",
       "    }\n",
       "\n",
       "    .dataframe thead th {\n",
       "        text-align: right;\n",
       "    }\n",
       "</style>\n",
       "<table border=\"1\" class=\"dataframe\">\n",
       "  <thead>\n",
       "    <tr style=\"text-align: right;\">\n",
       "      <th></th>\n",
       "      <th>text</th>\n",
       "      <th>sentiment</th>\n",
       "    </tr>\n",
       "  </thead>\n",
       "  <tbody>\n",
       "    <tr>\n",
       "      <th>0</th>\n",
       "      <td>lebih-lebih lagi dengan  kemudahan internet da...</td>\n",
       "      <td>Negative</td>\n",
       "    </tr>\n",
       "    <tr>\n",
       "      <th>1</th>\n",
       "      <td>boleh memberi teguran kepada parti tetapi perl...</td>\n",
       "      <td>Positive</td>\n",
       "    </tr>\n",
       "    <tr>\n",
       "      <th>2</th>\n",
       "      <td>adalah membingungkan mengapa masyarakat cina b...</td>\n",
       "      <td>Negative</td>\n",
       "    </tr>\n",
       "    <tr>\n",
       "      <th>3</th>\n",
       "      <td>kami menurunkan defisit daripada  peratus pada...</td>\n",
       "      <td>Positive</td>\n",
       "    </tr>\n",
       "    <tr>\n",
       "      <th>4</th>\n",
       "      <td>ini masalahnya bukan rakyat tetapi sistem</td>\n",
       "      <td>Negative</td>\n",
       "    </tr>\n",
       "    <tr>\n",
       "      <th>...</th>\n",
       "      <td>...</td>\n",
       "      <td>...</td>\n",
       "    </tr>\n",
       "    <tr>\n",
       "      <th>215513</th>\n",
       "      <td>kerajaan kita bukan serba boleh tapi serba bod...</td>\n",
       "      <td>Negative</td>\n",
       "    </tr>\n",
       "    <tr>\n",
       "      <th>215514</th>\n",
       "      <td>sudah sudah la kak mas woi kamu tahu tak semua...</td>\n",
       "      <td>Negative</td>\n",
       "    </tr>\n",
       "    <tr>\n",
       "      <th>215515</th>\n",
       "      <td>nape nak kena tampal gambar dia pulakguna duit...</td>\n",
       "      <td>Negative</td>\n",
       "    </tr>\n",
       "    <tr>\n",
       "      <th>215516</th>\n",
       "      <td>bendera putih tu bukannya nak harap bantuan ke...</td>\n",
       "      <td>Negative</td>\n",
       "    </tr>\n",
       "    <tr>\n",
       "      <th>215517</th>\n",
       "      <td>menggelabah masing-masing nak beraya kan lepas...</td>\n",
       "      <td>Negative</td>\n",
       "    </tr>\n",
       "  </tbody>\n",
       "</table>\n",
       "<p>215518 rows × 2 columns</p>\n",
       "</div>"
      ],
      "text/plain": [
       "                                                     text sentiment\n",
       "0       lebih-lebih lagi dengan  kemudahan internet da...  Negative\n",
       "1       boleh memberi teguran kepada parti tetapi perl...  Positive\n",
       "2       adalah membingungkan mengapa masyarakat cina b...  Negative\n",
       "3       kami menurunkan defisit daripada  peratus pada...  Positive\n",
       "4               ini masalahnya bukan rakyat tetapi sistem  Negative\n",
       "...                                                   ...       ...\n",
       "215513  kerajaan kita bukan serba boleh tapi serba bod...  Negative\n",
       "215514  sudah sudah la kak mas woi kamu tahu tak semua...  Negative\n",
       "215515  nape nak kena tampal gambar dia pulakguna duit...  Negative\n",
       "215516  bendera putih tu bukannya nak harap bantuan ke...  Negative\n",
       "215517  menggelabah masing-masing nak beraya kan lepas...  Negative\n",
       "\n",
       "[215518 rows x 2 columns]"
      ]
     },
     "execution_count": 16,
     "metadata": {},
     "output_type": "execute_result"
    }
   ],
   "source": [
    "from unidecode import unidecode\n",
    "import string\n",
    "import re\n",
    "\n",
    "punctuation = '‘’“”!$%&\\()*+,./:;<=>?[\\\\]^_`{|}~•@…'\n",
    "\n",
    "def clean_text(text):\n",
    "    # convert characters to ascii\n",
    "    text = unidecode(text)\n",
    "    \n",
    "    # remove words that is hashtags, mentions and links\n",
    "    text = re.sub(r'^([@#]|http|https)[^\\s]*', '', text)\n",
    "    \n",
    "    # remove punctuation\n",
    "    text = text.translate(text.maketrans('', '', punctuation))\n",
    "    \n",
    "    # remove next line     \n",
    "    text = re.sub('\\n', '', text)\n",
    "    \n",
    "    # lowercasing text\n",
    "    text = text.lower()\n",
    "    \n",
    "    # stripping text\n",
    "    text = text.strip()\n",
    "    \n",
    "    # remove words containing numbers\n",
    "    text = re.sub('\\w*\\d\\w*', '', text)\n",
    "    \n",
    "    return text\n",
    "    \n",
    "combined_df['text'] = combined_df['text'].apply(lambda x: clean_text(x))\n",
    "combined_df"
   ]
  },
  {
   "cell_type": "markdown",
   "metadata": {},
   "source": [
    "## 2.2 Normalise short-form words"
   ]
  },
  {
   "cell_type": "code",
   "execution_count": 18,
   "metadata": {},
   "outputs": [
    {
     "data": {
      "text/html": [
       "<div>\n",
       "<style scoped>\n",
       "    .dataframe tbody tr th:only-of-type {\n",
       "        vertical-align: middle;\n",
       "    }\n",
       "\n",
       "    .dataframe tbody tr th {\n",
       "        vertical-align: top;\n",
       "    }\n",
       "\n",
       "    .dataframe thead th {\n",
       "        text-align: right;\n",
       "    }\n",
       "</style>\n",
       "<table border=\"1\" class=\"dataframe\">\n",
       "  <thead>\n",
       "    <tr style=\"text-align: right;\">\n",
       "      <th></th>\n",
       "      <th>text</th>\n",
       "      <th>sentiment</th>\n",
       "    </tr>\n",
       "  </thead>\n",
       "  <tbody>\n",
       "    <tr>\n",
       "      <th>0</th>\n",
       "      <td>lebih-lebih lagi dengan kemudahan internet dan...</td>\n",
       "      <td>Negative</td>\n",
       "    </tr>\n",
       "    <tr>\n",
       "      <th>1</th>\n",
       "      <td>boleh memberi teguran kepada parti tetapi perl...</td>\n",
       "      <td>Positive</td>\n",
       "    </tr>\n",
       "    <tr>\n",
       "      <th>2</th>\n",
       "      <td>adalah membingungkan mengapa masyarakat cina b...</td>\n",
       "      <td>Negative</td>\n",
       "    </tr>\n",
       "    <tr>\n",
       "      <th>3</th>\n",
       "      <td>kami menurunkan defisit daripada peratus pada ...</td>\n",
       "      <td>Positive</td>\n",
       "    </tr>\n",
       "    <tr>\n",
       "      <th>4</th>\n",
       "      <td>ini masalahnya bukan rakyat tetapi sistem</td>\n",
       "      <td>Negative</td>\n",
       "    </tr>\n",
       "    <tr>\n",
       "      <th>...</th>\n",
       "      <td>...</td>\n",
       "      <td>...</td>\n",
       "    </tr>\n",
       "    <tr>\n",
       "      <th>215513</th>\n",
       "      <td>kerajaan kita bukan serba boleh tetapi serba b...</td>\n",
       "      <td>Negative</td>\n",
       "    </tr>\n",
       "    <tr>\n",
       "      <th>215514</th>\n",
       "      <td>sudah sudah lah kak mas woi kamu tahu tidak se...</td>\n",
       "      <td>Negative</td>\n",
       "    </tr>\n",
       "    <tr>\n",
       "      <th>215515</th>\n",
       "      <td>kenapa hendak kena tampal gambar dia pulakguna...</td>\n",
       "      <td>Negative</td>\n",
       "    </tr>\n",
       "    <tr>\n",
       "      <th>215516</th>\n",
       "      <td>bendera putih itu bukannya hendak harap bantua...</td>\n",
       "      <td>Negative</td>\n",
       "    </tr>\n",
       "    <tr>\n",
       "      <th>215517</th>\n",
       "      <td>menggelabah masing-masing hendak beraya kan le...</td>\n",
       "      <td>Negative</td>\n",
       "    </tr>\n",
       "  </tbody>\n",
       "</table>\n",
       "<p>215518 rows × 2 columns</p>\n",
       "</div>"
      ],
      "text/plain": [
       "                                                     text sentiment\n",
       "0       lebih-lebih lagi dengan kemudahan internet dan...  Negative\n",
       "1       boleh memberi teguran kepada parti tetapi perl...  Positive\n",
       "2       adalah membingungkan mengapa masyarakat cina b...  Negative\n",
       "3       kami menurunkan defisit daripada peratus pada ...  Positive\n",
       "4               ini masalahnya bukan rakyat tetapi sistem  Negative\n",
       "...                                                   ...       ...\n",
       "215513  kerajaan kita bukan serba boleh tetapi serba b...  Negative\n",
       "215514  sudah sudah lah kak mas woi kamu tahu tidak se...  Negative\n",
       "215515  kenapa hendak kena tampal gambar dia pulakguna...  Negative\n",
       "215516  bendera putih itu bukannya hendak harap bantua...  Negative\n",
       "215517  menggelabah masing-masing hendak beraya kan le...  Negative\n",
       "\n",
       "[215518 rows x 2 columns]"
      ]
     },
     "execution_count": 18,
     "metadata": {},
     "output_type": "execute_result"
    }
   ],
   "source": [
    "malaya_sf = pd.read_csv(r'../normalise/malaya.csv')\n",
    "cilisos_sf = pd.read_csv(r'../normalise/cilisos.csv', encoding='ISO-8859-1')\n",
    "\n",
    "combined_sf = {x[0]: x[1] for x in malaya_sf.values.tolist() + cilisos_sf.values.tolist()}\n",
    "\n",
    "def normalise_text(text):\n",
    "    return ' '.join([combined_sf[x] if x in combined_sf.keys() else x for x in text.split()])\n",
    "\n",
    "combined_df['text'] = combined_df['text'].apply(lambda x: normalise_text(x))\n",
    "combined_df"
   ]
  },
  {
   "cell_type": "markdown",
   "metadata": {},
   "source": [
    "# 3. Load tokenizer"
   ]
  },
  {
   "cell_type": "markdown",
   "metadata": {},
   "source": [
    "## 3.1 Load customised modeling\n",
    "\n",
    "Language embeddings will be added on model."
   ]
  },
  {
   "cell_type": "code",
   "execution_count": 195,
   "metadata": {},
   "outputs": [
    {
     "data": {
      "application/vnd.jupyter.widget-view+json": {
       "model_id": "6dce54f537dc43efaaa5d9a6979c04cf",
       "version_major": 2,
       "version_minor": 0
      },
      "text/plain": [
       "Downloading:   0%|          | 0.00/996k [00:00<?, ?B/s]"
      ]
     },
     "metadata": {},
     "output_type": "display_data"
    },
    {
     "name": "stderr",
     "output_type": "stream",
     "text": [
      "C:\\Users\\cafer\\anaconda3\\lib\\site-packages\\huggingface_hub\\file_download.py:123: UserWarning: `huggingface_hub` cache-system uses symlinks by default to efficiently store duplicated files but your machine does not support them in C:\\Users\\cafer\\.cache\\huggingface\\hub. Caching files will still work but in a degraded version that might require more space on your disk. This warning can be disabled by setting the `HF_HUB_DISABLE_SYMLINKS_WARNING` environment variable. For more details, see https://huggingface.co/docs/huggingface_hub/how-to-cache#limitations.\n",
      "To support symlinks on Windows, you either need to activate Developer Mode or to run Python as an administrator. In order to see activate developer mode, see this article: https://docs.microsoft.com/en-us/windows/apps/get-started/enable-your-device-for-development\n",
      "  warnings.warn(message)\n"
     ]
    },
    {
     "data": {
      "application/vnd.jupyter.widget-view+json": {
       "model_id": "3a18b3d549164f0c9c554c34aecea553",
       "version_major": 2,
       "version_minor": 0
      },
      "text/plain": [
       "Downloading:   0%|          | 0.00/29.0 [00:00<?, ?B/s]"
      ]
     },
     "metadata": {},
     "output_type": "display_data"
    },
    {
     "data": {
      "application/vnd.jupyter.widget-view+json": {
       "model_id": "fd60f27384b14b3a8b411d25f2dd0872",
       "version_major": 2,
       "version_minor": 0
      },
      "text/plain": [
       "Downloading:   0%|          | 0.00/625 [00:00<?, ?B/s]"
      ]
     },
     "metadata": {},
     "output_type": "display_data"
    }
   ],
   "source": [
    "import torch\n",
    "import modeling_bert\n",
    "\n",
    "from modeling_bert import BertModel\n",
    "from transformers import BertTokenizer\n",
    "\n",
    "tokenizer = BertTokenizer.from_pretrained(\"bert-base-multilingual-cased\")"
   ]
  },
  {
   "cell_type": "markdown",
   "metadata": {},
   "source": [
    "## 3.2 Testing datasets and modeling"
   ]
  },
  {
   "cell_type": "code",
   "execution_count": 196,
   "metadata": {
    "scrolled": true
   },
   "outputs": [
    {
     "name": "stdout",
     "output_type": "stream",
     "text": [
      "tensor([[  101, 11149, 36300, 10107,   102]])\n",
      "[CLS] She sells [SEP]\n"
     ]
    }
   ],
   "source": [
    "# text = \"She sells\"\n",
    "# # if we tokenize it, this becomes:\n",
    "# encoding = tokenizer(text, return_tensors=\"pt\")\n",
    "# encoding['language_ids'] = torch.tensor([[0, 1, 1, 0]])\n",
    "\n",
    "# print(encoding['input_ids'])\n",
    "\n",
    "# for input_id in encoding['input_ids']:\n",
    "#     print(tokenizer.decode(input_id))\n"
   ]
  },
  {
   "cell_type": "code",
   "execution_count": 197,
   "metadata": {},
   "outputs": [
    {
     "name": "stdout",
     "output_type": "stream",
     "text": [
      "max:  232\n",
      "min:  2\n"
     ]
    },
    {
     "data": {
      "text/plain": [
       "(array([     0.,  20000.,  40000.,  60000.,  80000., 100000., 120000.,\n",
       "        140000.]),\n",
       " [Text(0, 0, ''),\n",
       "  Text(0, 0, ''),\n",
       "  Text(0, 0, ''),\n",
       "  Text(0, 0, ''),\n",
       "  Text(0, 0, ''),\n",
       "  Text(0, 0, ''),\n",
       "  Text(0, 0, ''),\n",
       "  Text(0, 0, '')])"
      ]
     },
     "execution_count": 197,
     "metadata": {},
     "output_type": "execute_result"
    },
    {
     "data": {
      "image/png": "[encoded data removed]",
      "text/plain": [
       "<Figure size 2000x800 with 1 Axes>"
      ]
     },
     "metadata": {},
     "output_type": "display_data"
    }
   ],
   "source": [
    "# # tokenize the text feature \n",
    "# tokenized_feature_raw = tokenizer.batch_encode_plus(\n",
    "#     # Sentences to encode\n",
    "#     combined_df.text.values.tolist(), \n",
    "#     # Add '[CLS]' and '[SEP]'\n",
    "#     add_special_tokens = True\n",
    "# )\n",
    "\n",
    "# # collect tokenized sentence length\n",
    "# token_sentence_length = [len(x) for x in tokenized_feature_raw['input_ids']]\n",
    "# print('max: ', max(token_sentence_length))\n",
    "# print('min: ', min(token_sentence_length))\n",
    "\n",
    "# # plot the distribution\n",
    "# import matplotlib.pyplot as plt\n",
    "# plt.figure(figsize=(20, 8))\n",
    "# plt.hist(token_sentence_length, rwidth = 0.9)\n",
    "# plt.xlabel('Sequence Length', fontsize = 18)\n",
    "# plt.ylabel('# of Samples', fontsize = 18)\n",
    "# plt.xticks(fontsize = 14)\n",
    "# plt.yticks(fontsize = 14)"
   ]
  },
  {
   "cell_type": "markdown",
   "metadata": {},
   "source": [
    "## 3.3 Tokenize features"
   ]
  },
  {
   "cell_type": "code",
   "execution_count": 198,
   "metadata": {},
   "outputs": [
    {
     "name": "stdout",
     "output_type": "stream",
     "text": [
      "['lebih-lebih lagi dengan kemudahan internet dan laman sosial taktik ini semakin mudah dikembangkan', 'boleh memberi teguran kepada parti tetapi perlu ikut cara yang betul', 'adalah membingungkan mengapa masyarakat cina bersorak gembira apabila mahathir menyertai gabungan pakatan pembangkang', 'kami menurunkan defisit daripada peratus pada tahun kepada tiga peratus pada tahun lalu', 'ini masalahnya bukan rakyat tetapi sistem']\n"
     ]
    }
   ],
   "source": [
    "# identify features and target\n",
    "features = combined_df.text.values.tolist()\n",
    "target = combined_df.sentiment.values.tolist()\n",
    "\n",
    "print(features[:5])"
   ]
  },
  {
   "cell_type": "code",
   "execution_count": 199,
   "metadata": {},
   "outputs": [],
   "source": [
    "# tokenize features \n",
    "MAX_LEN = 128\n",
    "tokenized_feature = tokenizer.batch_encode_plus(\n",
    "    # Sentences to encode\n",
    "    features, \n",
    "    # Add '[CLS]' and '[SEP]'\n",
    "    add_special_tokens = True,\n",
    "    # Add empty tokens if len(text)<MAX_LEN\n",
    "    padding = 'max_length',\n",
    "    # Truncate all sentences to max length\n",
    "    truncation=True,\n",
    "    # Set the maximum length\n",
    "    max_length = MAX_LEN, \n",
    "    # Return attention mask\n",
    "    return_attention_mask = True,\n",
    "    # Return pytorch tensors\n",
    "    return_tensors = 'pt'       \n",
    ")"
   ]
  },
  {
   "cell_type": "markdown",
   "metadata": {},
   "source": [
    "## 3.4 Add language embeddings"
   ]
  },
  {
   "cell_type": "code",
   "execution_count": 200,
   "metadata": {},
   "outputs": [],
   "source": [
    "special_token_list = ['[CLS]', '[SEP]', '[PAD]', '[UNK]']\n",
    "\n",
    "lang_id2num = { 'special_token': 0, 'english': 1, 'malay': 2, 'other': 3 }\n",
    "lang_num2id = {v:k for k,v in lang_id2num.items()}"
   ]
  },
  {
   "cell_type": "code",
   "execution_count": 201,
   "metadata": {},
   "outputs": [],
   "source": [
    "def detect_lang(text):\n",
    "    if text in special_token_list:\n",
    "        return 'special_token'\n",
    "    elif detect_malay(text):\n",
    "        return 'malay'\n",
    "    elif detect_english(text):\n",
    "        return 'english'\n",
    "    else:\n",
    "        return 'other'\n",
    "    \n",
    "def get_lang_tokens(input_tokens):\n",
    "    language_ids = []\n",
    "    \n",
    "    full_sentence = ''\n",
    "    token_count = 0\n",
    "    for input_token in reversed(input_tokens):\n",
    "        token = tokenizer.decode(input_token).replace(' ', '')\n",
    "        \n",
    "        if '##' in token:\n",
    "            full_sentence = token.split('##')[1] + full_sentence\n",
    "            token_count += 1\n",
    "            continue\n",
    "        else:\n",
    "            full_sentence = token + full_sentence\n",
    "            token_count += 1\n",
    "        \n",
    "        lang_token = lang_id2num[detect_lang(full_sentence)]\n",
    "        for _ in range(token_count):\n",
    "            language_ids.append(lang_token)\n",
    "        \n",
    "        full_sentence = ''\n",
    "        token_count = 0\n",
    "        \n",
    "    return list(reversed(language_ids))"
   ]
  },
  {
   "cell_type": "code",
   "execution_count": 212,
   "metadata": {},
   "outputs": [
    {
     "ename": "KeyboardInterrupt",
     "evalue": "",
     "output_type": "error",
     "traceback": [
      "\u001b[1;31m---------------------------------------------------------------------------\u001b[0m",
      "\u001b[1;31mKeyboardInterrupt\u001b[0m                         Traceback (most recent call last)",
      "\u001b[1;32m~\\AppData\\Local\\Temp\\ipykernel_7900\\1326493650.py\u001b[0m in \u001b[0;36m<module>\u001b[1;34m\u001b[0m\n\u001b[0;32m      4\u001b[0m     \u001b[0minput_tokens\u001b[0m \u001b[1;33m=\u001b[0m \u001b[0minput_id\u001b[0m\u001b[1;33m.\u001b[0m\u001b[0mtolist\u001b[0m\u001b[1;33m(\u001b[0m\u001b[1;33m)\u001b[0m\u001b[1;33m\u001b[0m\u001b[1;33m\u001b[0m\u001b[0m\n\u001b[0;32m      5\u001b[0m \u001b[1;33m\u001b[0m\u001b[0m\n\u001b[1;32m----> 6\u001b[1;33m     \u001b[0mlanguage_ids\u001b[0m\u001b[1;33m.\u001b[0m\u001b[0mappend\u001b[0m\u001b[1;33m(\u001b[0m\u001b[0mget_lang_tokens\u001b[0m\u001b[1;33m(\u001b[0m\u001b[0minput_tokens\u001b[0m\u001b[1;33m)\u001b[0m\u001b[1;33m)\u001b[0m\u001b[1;33m\u001b[0m\u001b[1;33m\u001b[0m\u001b[0m\n\u001b[0m\u001b[0;32m      7\u001b[0m \u001b[1;33m\u001b[0m\u001b[0m\n\u001b[0;32m      8\u001b[0m \u001b[0mlanguage_ids\u001b[0m \u001b[1;33m=\u001b[0m \u001b[0mtorch\u001b[0m\u001b[1;33m.\u001b[0m\u001b[0mtensor\u001b[0m\u001b[1;33m(\u001b[0m\u001b[0mlanguage_ids\u001b[0m\u001b[1;33m)\u001b[0m\u001b[1;33m\u001b[0m\u001b[1;33m\u001b[0m\u001b[0m\n",
      "\u001b[1;32m~\\AppData\\Local\\Temp\\ipykernel_7900\\1601047438.py\u001b[0m in \u001b[0;36mget_lang_tokens\u001b[1;34m(input_tokens)\u001b[0m\n\u001b[0;32m     25\u001b[0m             \u001b[0mtoken_count\u001b[0m \u001b[1;33m+=\u001b[0m \u001b[1;36m1\u001b[0m\u001b[1;33m\u001b[0m\u001b[1;33m\u001b[0m\u001b[0m\n\u001b[0;32m     26\u001b[0m \u001b[1;33m\u001b[0m\u001b[0m\n\u001b[1;32m---> 27\u001b[1;33m         \u001b[0mlang_token\u001b[0m \u001b[1;33m=\u001b[0m \u001b[0mlang_id2num\u001b[0m\u001b[1;33m[\u001b[0m\u001b[0mdetect_lang\u001b[0m\u001b[1;33m(\u001b[0m\u001b[0mfull_sentence\u001b[0m\u001b[1;33m)\u001b[0m\u001b[1;33m]\u001b[0m\u001b[1;33m\u001b[0m\u001b[1;33m\u001b[0m\u001b[0m\n\u001b[0m\u001b[0;32m     28\u001b[0m         \u001b[1;32mfor\u001b[0m \u001b[0m_\u001b[0m \u001b[1;32min\u001b[0m \u001b[0mrange\u001b[0m\u001b[1;33m(\u001b[0m\u001b[0mtoken_count\u001b[0m\u001b[1;33m)\u001b[0m\u001b[1;33m:\u001b[0m\u001b[1;33m\u001b[0m\u001b[1;33m\u001b[0m\u001b[0m\n\u001b[0;32m     29\u001b[0m             \u001b[0mlanguage_ids\u001b[0m\u001b[1;33m.\u001b[0m\u001b[0mappend\u001b[0m\u001b[1;33m(\u001b[0m\u001b[0mlang_token\u001b[0m\u001b[1;33m)\u001b[0m\u001b[1;33m\u001b[0m\u001b[1;33m\u001b[0m\u001b[0m\n",
      "\u001b[1;31mKeyboardInterrupt\u001b[0m: "
     ]
    }
   ],
   "source": [
    "language_ids = []\n",
    "\n",
    "for input_id in tokenized_feature['input_ids']:\n",
    "    input_tokens = input_id.tolist()\n",
    "    \n",
    "    language_ids.append(get_lang_tokens(input_tokens))\n",
    "\n",
    "language_ids = torch.tensor(language_ids)\n",
    "\n",
    "tokenized_feature['language_ids'] = language_ids"
   ]
  },
  {
   "cell_type": "code",
   "execution_count": null,
   "metadata": {},
   "outputs": [],
   "source": [
    "tokenized_feature['language_ids']"
   ]
  }
 ],
 "metadata": {
  "kernelspec": {
   "display_name": "Python 3 (ipykernel)",
   "language": "python",
   "name": "python3"
  },
  "language_info": {
   "codemirror_mode": {
    "name": "ipython",
    "version": 3
   },
   "file_extension": ".py",
   "mimetype": "text/x-python",
   "name": "python",
   "nbconvert_exporter": "python",
   "pygments_lexer": "ipython3",
   "version": "3.9.13"
  },
  "vscode": {
   "interpreter": {
    "hash": "e07e2cad301f10046f31ca6b8439b04dc67a22fe5bd747bca8a9458062e70f77"
   }
  }
 },
 "nbformat": 4,
 "nbformat_minor": 2
}
