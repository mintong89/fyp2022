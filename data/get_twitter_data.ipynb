{
 "cells": [
  {
   "cell_type": "markdown",
   "id": "035a2eeb",
   "metadata": {},
   "source": [
    "## Twitter Data\n",
    "#### *Skip until load pickle for retrieved data."
   ]
  },
  {
   "cell_type": "code",
   "execution_count": null,
   "id": "6f79d3e1",
   "metadata": {},
   "outputs": [],
   "source": [
    "# import all neccessary libraries\n",
    "from datetime import datetime\n",
    "import json\n",
    "import geocoder as geo\n",
    "import glob\n",
    "import tweepy as tw\n",
    "import pandas as pd\n",
    "import pickle\n",
    "\n",
    "pd.set_option('max_colwidth',150)"
   ]
  },
  {
   "cell_type": "code",
   "execution_count": null,
   "id": "5ccf67e9",
   "metadata": {},
   "outputs": [],
   "source": [
    "# Twitter API keys\n",
    "consumer_key = ''\n",
    "consumer_secret = ''\n",
    "access_key = ''\n",
    "access_secret = ''\n",
    "\n",
    "# get authentication\n",
    "auth = tw.OAuth1UserHandler(consumer_key, consumer_secret, access_key, access_secret)\n",
    "api = tw.API(auth)"
   ]
  },
  {
   "cell_type": "code",
   "execution_count": null,
   "id": "8c57a7be",
   "metadata": {},
   "outputs": [],
   "source": [
    "# get location\n",
    "location = 'Malaysia'\n",
    "geo_osm = geo.osm(location)\n",
    "\n",
    "# get trends\n",
    "closest_loc = api.closest_trends(geo_osm.lat, geo_osm.lng)\n",
    "trends = api.get_place_trends(closest_loc[0]['woeid'])[0]['trends']\n",
    "\n",
    "# get trend hashtags\n",
    "hashtags = []\n",
    "[hashtags.append(trend['name']) for trend in trends]\n",
    "    \n",
    "    \n",
    "print(hashtags)"
   ]
  },
  {
   "cell_type": "code",
   "execution_count": null,
   "id": "4c99945a",
   "metadata": {
    "scrolled": false
   },
   "outputs": [],
   "source": [
    "# get Malaysia place id for Twitter\n",
    "places = api.search_geo(query='Malaysia', granularity='country')\n",
    "place_id = places[0].id\n",
    "\n",
    "# retrieve tweet data by respective hashtag\n",
    "tweet_data = []\n",
    "try:\n",
    "    for hashtag in hashtags:\n",
    "        tweets = tw.Cursor(api.search_tweets, q='%s place:%s' % (hashtag, place_id)).items(100)\n",
    "    \n",
    "        for tweet in tweets:\n",
    "            tweet_data.append({\n",
    "                'date': tweet.created_at,\n",
    "                'id': tweet.id,\n",
    "                'hashtag': hashtag,\n",
    "                'text': tweet.text,\n",
    "            })\n",
    "finally:\n",
    "    # store data in form of pickle for later use\n",
    "    !mkdir data\n",
    "\n",
    "    time_now = datetime.now().strftime(\"%d-%m-%Y %H-%M-%S\")\n",
    "\n",
    "    with open('data-malaysian/twitter/twitter %s.pickle' % time_now, 'wb') as file:\n",
    "        pickle.dump(tweet_data, file)"
   ]
  },
  {
   "cell_type": "code",
   "execution_count": null,
   "id": "aa920a60",
   "metadata": {},
   "outputs": [],
   "source": [
    "# load Twitter pickle file\n",
    "combined_tweets = []\n",
    "\n",
    "# get all tweets\n",
    "tweets_directories = glob.glob('data-malaysian/twitter/twitter*')\n",
    "for directory in tweets_directories:\n",
    "    with open(directory, 'rb') as file:\n",
    "        combined_tweets += pickle.load(file)\n",
    "\n",
    "# shows data in Dataframe form\n",
    "tweets_df = pd.DataFrame.from_dict(combined_tweets)\n",
    "tweets_df"
   ]
  }
 ],
 "metadata": {
  "kernelspec": {
   "display_name": "Python 3 (ipykernel)",
   "language": "python",
   "name": "python3"
  },
  "language_info": {
   "codemirror_mode": {
    "name": "ipython",
    "version": 3
   },
   "file_extension": ".py",
   "mimetype": "text/x-python",
   "name": "python",
   "nbconvert_exporter": "python",
   "pygments_lexer": "ipython3",
   "version": "3.9.13"
  },
  "vscode": {
   "interpreter": {
    "hash": "e07e2cad301f10046f31ca6b8439b04dc67a22fe5bd747bca8a9458062e70f77"
   }
  }
 },
 "nbformat": 4,
 "nbformat_minor": 5
}
