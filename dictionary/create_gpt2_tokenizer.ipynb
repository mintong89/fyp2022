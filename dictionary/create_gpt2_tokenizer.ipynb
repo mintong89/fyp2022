{
 "cells": [
  {
   "cell_type": "code",
   "execution_count": 1,
   "metadata": {},
   "outputs": [],
   "source": [
    "token_dict = {\n",
    "    'bos_token': '<|beginoftext|>',\n",
    "    'pad_token': '<|pad|>',\n",
    "    'sep_token': '<|sep|>',\n",
    "    'mask_token': '<|mask|>'\n",
    "}"
   ]
  },
  {
   "cell_type": "code",
   "execution_count": 2,
   "metadata": {},
   "outputs": [
    {
     "name": "stdout",
     "output_type": "stream",
     "text": [
      "Loading tokenizer...\n"
     ]
    }
   ],
   "source": [
    "from transformers import GPT2Tokenizer\n",
    "\n",
    "# Load the tokenizer.\n",
    "print('Loading tokenizer...')\n",
    "tokenizer = GPT2Tokenizer.from_pretrained('gpt2', do_lower_case=True)\n",
    "\n",
    "tokenizer.padding_side = \"left\""
   ]
  },
  {
   "cell_type": "code",
   "execution_count": 3,
   "metadata": {},
   "outputs": [
    {
     "data": {
      "application/vnd.jupyter.widget-view+json": {
       "model_id": "73083b96998a4d22abc5281c93399ba3",
       "version_major": 2,
       "version_minor": 0
      },
      "text/plain": [
       "  0%|          | 0/208187 [00:00<?, ?it/s]"
      ]
     },
     "metadata": {},
     "output_type": "display_data"
    },
    {
     "data": {
      "text/plain": [
       "('tokenizer/tokenizer_config.json',\n",
       " 'tokenizer/special_tokens_map.json',\n",
       " 'tokenizer/vocab.json',\n",
       " 'tokenizer/merges.txt',\n",
       " 'tokenizer/added_tokens.json')"
      ]
     },
     "execution_count": 3,
     "metadata": {},
     "output_type": "execute_result"
    }
   ],
   "source": [
    "# add vocabulary to tokenizer\n",
    "# ===========================\n",
    "\n",
    "from tqdm.auto import tqdm\n",
    "# import nltk\n",
    "# nltk.download('words')\n",
    "\n",
    "with open('combined-malay-dict.txt', encoding=\"utf8\") as fp:\n",
    "  malay_words = set([x.strip() for x in fp.readlines() if '#$,-@ ' not in x])\n",
    "\n",
    "# english_words = set(nltk.corpus.words.words())\n",
    "\n",
    "# new_tokens = (malay_words | english_words) - set(tokenizer.get_vocab().keys())\n",
    "new_tokens = malay_words - set(tokenizer.get_vocab().keys())\n",
    "\n",
    "new_tokens = [x for x in list(new_tokens) if ' ' not in x]\n",
    "batchsize = 10000\n",
    "progress_bar =  tqdm(range(len(new_tokens)))\n",
    "\n",
    "for i in range(0, len(new_tokens), batchsize):\n",
    "  batch = new_tokens[i:i+batchsize]\n",
    "  tokenizer.add_tokens(batch)\n",
    "  progress_bar.update(batchsize)\n",
    "\n",
    "tokenizer.add_special_tokens(token_dict)"
   ]
  },
  {
   "cell_type": "code",
   "execution_count": 4,
   "metadata": {},
   "outputs": [],
   "source": [
    "import pickle\n",
    "\n",
    "with open('tokenizer-gpt2.bin', 'wb') as fp:\n",
    "    pickle.dump(tokenizer, fp)"
   ]
  }
 ],
 "metadata": {
  "kernelspec": {
   "display_name": "base",
   "language": "python",
   "name": "python3"
  },
  "language_info": {
   "codemirror_mode": {
    "name": "ipython",
    "version": 3
   },
   "file_extension": ".py",
   "mimetype": "text/x-python",
   "name": "python",
   "nbconvert_exporter": "python",
   "pygments_lexer": "ipython3",
   "version": "3.9.13"
  },
  "orig_nbformat": 4,
  "vscode": {
   "interpreter": {
    "hash": "e07e2cad301f10046f31ca6b8439b04dc67a22fe5bd747bca8a9458062e70f77"
   }
  }
 },
 "nbformat": 4,
 "nbformat_minor": 2
}
