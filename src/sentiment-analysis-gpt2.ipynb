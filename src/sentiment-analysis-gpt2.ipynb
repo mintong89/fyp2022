{
  "cells": [
    {
      "attachments": {},
      "cell_type": "markdown",
      "metadata": {
        "id": "Rjos70icaOjt",
        "papermill": {
          "duration": 0.012577,
          "end_time": "2021-01-27T07:42:56.533741",
          "exception": false,
          "start_time": "2021-01-27T07:42:56.521164",
          "status": "completed"
        },
        "tags": []
      },
      "source": [
        "### 1. Model and Tokenizer"
      ]
    },
    {
      "cell_type": "code",
      "execution_count": null,
      "metadata": {
        "colab": {
          "base_uri": "https://localhost:8080/"
        },
        "id": "UTM9YfrMdR6Y",
        "outputId": "92441638-632b-4f8f-864b-4ca53f7d17fa"
      },
      "outputs": [],
      "source": [
        "import pandas as pd\n",
        "import numpy as np\n",
        "import os\n",
        "import gc\n",
        "\n",
        "import random\n",
        "\n",
        "import torch\n",
        "import torch.nn as nn\n",
        "import torch.optim as optim\n",
        "import torch.nn.functional as F\n",
        "from torch.utils.data import Dataset, DataLoader\n",
        "\n",
        "# set a seed value\n",
        "torch.manual_seed(555)\n",
        "\n",
        "from sklearn.utils import shuffle\n",
        "from sklearn.metrics import roc_auc_score, accuracy_score\n",
        "\n",
        "!pip install sentencepiece\n",
        "!pip install transformers\n",
        "import transformers\n",
        "from transformers import AdamW\n",
        "\n",
        "import warnings\n",
        "warnings.filterwarnings(\"ignore\")\n",
        "\n",
        "\n",
        "print(torch.__version__)"
      ]
    },
    {
      "cell_type": "code",
      "execution_count": null,
      "metadata": {
        "id": "rtd5JTzvdi3R"
      },
      "outputs": [],
      "source": [
        "import pickle\n",
        "with open('tokenizer-gpt2.bin', 'rb') as fp:\n",
        "  tokenizer = pickle.load(fp)\n",
        "\n",
        "tokenizer.padding_side = 'left'\n",
        "\n",
        "# from transformers import set_seed, GPT2Tokenizer\n",
        "# set_seed(555)\n",
        "\n",
        "# tokenizer = GPT2Tokenizer.from_pretrained('gpt2')\n",
        "# tokenizer.padding_side = \"left\"\n",
        "# tokenizer.pad_token = tokenizer.eos_token"
      ]
    },
    {
      "cell_type": "code",
      "execution_count": null,
      "metadata": {
        "colab": {
          "base_uri": "https://localhost:8080/"
        },
        "execution": {
          "iopub.execute_input": "2021-01-27T07:42:56.567228Z",
          "iopub.status.busy": "2021-01-27T07:42:56.566498Z",
          "iopub.status.idle": "2021-01-27T07:43:30.582317Z",
          "shell.execute_reply": "2021-01-27T07:43:30.581754Z"
        },
        "id": "7UnkZ1P9aOju",
        "outputId": "af956239-ff9c-496d-871d-7a41909b0cf5",
        "papermill": {
          "duration": 34.036867,
          "end_time": "2021-01-27T07:43:30.582435",
          "exception": false,
          "start_time": "2021-01-27T07:42:56.545568",
          "status": "completed"
        },
        "tags": []
      },
      "outputs": [],
      "source": [
        "from transformers import set_seed, GPT2Config, GPT2Tokenizer\n",
        "from modeling_gpt2 import GPT2ForSequenceClassification\n",
        "\n",
        "set_seed(555)\n",
        "\n",
        "model_config = GPT2Config.from_pretrained(\n",
        "    'gpt2',\n",
        "    num_labels = 3,\n",
        "    output_attentions = False,\n",
        "    output_hidden_states = False,\n",
        "    num_hidden_layers = 5,\n",
        "    num_attention_heads = 8,\n",
        "    hidden_dropout_prob = 0.2,\n",
        "    attention_probs_dropout_prob = 0.2,\n",
        "    ignore_mismatched_sizes=True,\n",
        "    bos_token_id = tokenizer.bos_token_id,\n",
        "    pad_token_id = tokenizer.pad_token_id,\n",
        "    eos_token_id = tokenizer.eos_token_id,\n",
        "    sep_token_id = tokenizer.sep_token_id\n",
        "    ) # Binary Classification\n",
        "model = GPT2ForSequenceClassification.from_pretrained('gpt2', config=model_config)\n",
        "\n",
        "model.resize_token_embeddings(len(tokenizer))"
      ]
    },
    {
      "cell_type": "markdown",
      "metadata": {
        "id": "XTxtpZXJaOjx",
        "papermill": {
          "duration": 0.016553,
          "end_time": "2021-01-27T07:43:30.616133",
          "exception": false,
          "start_time": "2021-01-27T07:43:30.599580",
          "status": "completed"
        },
        "tags": []
      },
      "source": [
        "### 2. Build Dataset"
      ]
    },
    {
      "cell_type": "code",
      "execution_count": null,
      "metadata": {
        "_cell_guid": "b1076dfc-b9ad-4769-8c92-a6c4dae69d19",
        "_uuid": "8f2839f25d086af736a60e9eeb907d3b93b6e0e5",
        "execution": {
          "iopub.execute_input": "2021-01-27T07:43:30.662188Z",
          "iopub.status.busy": "2021-01-27T07:43:30.661490Z",
          "iopub.status.idle": "2021-01-27T07:43:30.721707Z",
          "shell.execute_reply": "2021-01-27T07:43:30.721174Z"
        },
        "id": "ZGNaf2Z4aOjx",
        "papermill": {
          "duration": 0.089738,
          "end_time": "2021-01-27T07:43:30.721867",
          "exception": false,
          "start_time": "2021-01-27T07:43:30.632129",
          "status": "completed"
        },
        "tags": []
      },
      "outputs": [],
      "source": [
        "import os\n",
        "import pandas as pd\n",
        "from torch.utils.data import Dataset\n",
        "\n",
        "sentiment_to_num = {\n",
        "    'Negative': 0,\n",
        "    'Neutral': 1,\n",
        "    'Positive': 2\n",
        "}\n",
        "\n",
        "class TweetDataset(Dataset):\n",
        "    def __init__(self, train=True):\n",
        "        super().__init__()\n",
        "        self.train = train\n",
        "        self.data = pd.read_csv('sampled_data.csv', sep='\\t', encoding='ISO-8859-1')\n",
        "\n",
        "        df_train = self.data.groupby('sentiment').sample(n=40000).sample(frac=1)\n",
        "        df_test = self.data.filter(items=list(filter(lambda x: x not in df_train.index, self.data.index)), axis=0)\n",
        "        df_train = df_train.reset_index()[['text', 'sentiment']]\n",
        "        df_test = df_test.reset_index()[['text', 'sentiment']]\n",
        "        df_train['sentiment'] =  df_train['sentiment'].apply(lambda x: sentiment_to_num[x])\n",
        "        df_test['sentiment'] =  df_test['sentiment'].apply(lambda x: sentiment_to_num[x])\n",
        "\n",
        "        self.df_train = df_train\n",
        "        self.df_test = df_test\n",
        "    \n",
        "    def __len__(self):\n",
        "        return len(self.df_train)\n",
        "    \n",
        "    def __getitem__(self, index):\n",
        "        if self.train:\n",
        "            record = self.df_train.iloc[index]\n",
        "            text = record['text']\n",
        "            return {'text': text, 'label': record['sentiment']}\n",
        "        else:\n",
        "            record = self.df_test.iloc[index]\n",
        "            text = record['text']\n",
        "            return {'text': text, 'label': record['sentiment']}\n",
        "\n",
        "train_dataset = TweetDataset(train=True)\n",
        "test_dataset = TweetDataset(train=False)"
      ]
    },
    {
      "cell_type": "code",
      "execution_count": null,
      "metadata": {
        "colab": {
          "base_uri": "https://localhost:8080/"
        },
        "execution": {
          "iopub.execute_input": "2021-01-27T07:43:30.764965Z",
          "iopub.status.busy": "2021-01-27T07:43:30.764041Z",
          "iopub.status.idle": "2021-01-27T07:43:30.772545Z",
          "shell.execute_reply": "2021-01-27T07:43:30.771970Z"
        },
        "id": "Vb9SS_OVaOjy",
        "outputId": "925a696c-44d8-49c2-ae65-2174f37ed0a0",
        "papermill": {
          "duration": 0.034136,
          "end_time": "2021-01-27T07:43:30.772660",
          "exception": false,
          "start_time": "2021-01-27T07:43:30.738524",
          "status": "completed"
        },
        "tags": []
      },
      "outputs": [],
      "source": [
        "for i in range(10):\n",
        "    print(train_dataset.__getitem__(i)['text'])"
      ]
    },
    {
      "cell_type": "code",
      "execution_count": null,
      "metadata": {
        "colab": {
          "base_uri": "https://localhost:8080/"
        },
        "id": "1sI6BvGIhAk6",
        "outputId": "1ddafaa0-ab68-492d-cfa3-34b9d6ac087c"
      },
      "outputs": [],
      "source": [
        "from google.colab import drive\n",
        "drive.mount('/content/drive')"
      ]
    },
    {
      "cell_type": "code",
      "execution_count": null,
      "metadata": {
        "id": "gUM8FWHbfYqy"
      },
      "outputs": [],
      "source": [
        "import pickle\n",
        "\n",
        "with open('/content/drive/MyDrive/data-gpt2.bin', 'wb') as fp:\n",
        "  pickle.dump([train_dataset, test_dataset], fp)"
      ]
    },
    {
      "cell_type": "markdown",
      "metadata": {
        "id": "aad_-cF4aOjy",
        "papermill": {
          "duration": 0.016615,
          "end_time": "2021-01-27T07:43:30.806491",
          "exception": false,
          "start_time": "2021-01-27T07:43:30.789876",
          "status": "completed"
        },
        "tags": []
      },
      "source": [
        "### 3. Data Collator"
      ]
    },
    {
      "cell_type": "code",
      "execution_count": null,
      "metadata": {
        "colab": {
          "base_uri": "https://localhost:8080/"
        },
        "id": "WE8JxYIwjNow",
        "outputId": "885b5fa9-697c-4031-8514-acfe23073a74"
      },
      "outputs": [],
      "source": [
        "from language_tokens import get_lang_tokens_gpt2"
      ]
    },
    {
      "cell_type": "code",
      "execution_count": null,
      "metadata": {
        "execution": {
          "iopub.execute_input": "2021-01-27T07:43:30.849469Z",
          "iopub.status.busy": "2021-01-27T07:43:30.848598Z",
          "iopub.status.idle": "2021-01-27T07:43:30.851424Z",
          "shell.execute_reply": "2021-01-27T07:43:30.850904Z"
        },
        "id": "OOPf7hc4aOjy",
        "papermill": {
          "duration": 0.02848,
          "end_time": "2021-01-27T07:43:30.851535",
          "exception": false,
          "start_time": "2021-01-27T07:43:30.823055",
          "status": "completed"
        },
        "tags": []
      },
      "outputs": [],
      "source": [
        "class Gpt2ClassificationCollator(object):\n",
        "    def __init__(self, tokenizer, max_seq_len=None):\n",
        "        self.tokenizer = tokenizer\n",
        "        self.max_seq_len = max_seq_len\n",
        "        \n",
        "        return\n",
        "    \n",
        "    def __call__(self, sequences):\n",
        "        texts = [sequence['text'] for sequence in sequences]\n",
        "        labels = [int(sequence['label']) for sequence in sequences]\n",
        "        inputs = self.tokenizer(text=texts,\n",
        "                                return_tensors='pt',\n",
        "                                padding='max_length',\n",
        "                                truncation=True,\n",
        "                                max_length=self.max_seq_len)\n",
        "        inputs.update({'labels': torch.tensor(labels)})\n",
        "\n",
        "        language_ids = [get_lang_tokens_gpt2(tokenizer.batch_decode(text)) for text in [texts.tolist() for texts in inputs.input_ids]]\n",
        "        inputs.update({'language_ids': torch.tensor(language_ids)})\n",
        "        \n",
        "        return inputs\n",
        "\n",
        "gpt2classificationcollator = Gpt2ClassificationCollator(tokenizer=tokenizer,\n",
        "                                                        max_seq_len=60)"
      ]
    },
    {
      "cell_type": "markdown",
      "metadata": {
        "id": "mghBdjduaOjz",
        "papermill": {
          "duration": 0.016938,
          "end_time": "2021-01-27T07:43:30.885407",
          "exception": false,
          "start_time": "2021-01-27T07:43:30.868469",
          "status": "completed"
        },
        "tags": []
      },
      "source": [
        "### 4. DataLoader"
      ]
    },
    {
      "cell_type": "code",
      "execution_count": null,
      "metadata": {
        "execution": {
          "iopub.execute_input": "2021-01-27T07:43:30.929544Z",
          "iopub.status.busy": "2021-01-27T07:43:30.928511Z",
          "iopub.status.idle": "2021-01-27T07:43:30.934418Z",
          "shell.execute_reply": "2021-01-27T07:43:30.933930Z"
        },
        "id": "2jfM65q_aOjz",
        "papermill": {
          "duration": 0.032159,
          "end_time": "2021-01-27T07:43:30.934520",
          "exception": false,
          "start_time": "2021-01-27T07:43:30.902361",
          "status": "completed"
        },
        "tags": []
      },
      "outputs": [],
      "source": [
        "from torch.utils.data import DataLoader, random_split\n",
        "\n",
        "train_size = int(len(train_dataset) * 0.8)\n",
        "val_size = len(train_dataset) - train_size\n",
        "train_dataset, val_dataset = random_split(train_dataset, [train_size, val_size])\n",
        "\n",
        "train_dataloader = DataLoader(dataset=train_dataset,\n",
        "                              batch_size=64,\n",
        "                              shuffle=True,\n",
        "                              collate_fn=gpt2classificationcollator)\n",
        "val_dataloader = DataLoader(dataset=val_dataset,\n",
        "                            batch_size=64,\n",
        "                            shuffle=False,\n",
        "                            collate_fn=gpt2classificationcollator)\n",
        "test_dataloader = DataLoader(dataset=test_dataset,\n",
        "                             batch_size=64,\n",
        "                             shuffle=False,\n",
        "                             collate_fn=gpt2classificationcollator)"
      ]
    },
    {
      "cell_type": "markdown",
      "metadata": {
        "id": "ESKj_D3yaOjz",
        "papermill": {
          "duration": 0.018208,
          "end_time": "2021-01-27T07:43:30.970160",
          "exception": false,
          "start_time": "2021-01-27T07:43:30.951952",
          "status": "completed"
        },
        "tags": []
      },
      "source": [
        "### 5. Optimizer & Lr Scheduler"
      ]
    },
    {
      "cell_type": "code",
      "execution_count": null,
      "metadata": {
        "execution": {
          "iopub.execute_input": "2021-01-27T07:43:31.020399Z",
          "iopub.status.busy": "2021-01-27T07:43:31.019506Z",
          "iopub.status.idle": "2021-01-27T07:43:31.022562Z",
          "shell.execute_reply": "2021-01-27T07:43:31.022088Z"
        },
        "id": "uWHae2hbaOj0",
        "papermill": {
          "duration": 0.034964,
          "end_time": "2021-01-27T07:43:31.022669",
          "exception": false,
          "start_time": "2021-01-27T07:43:30.987705",
          "status": "completed"
        },
        "tags": []
      },
      "outputs": [],
      "source": [
        "from transformers import AdamW, get_cosine_schedule_with_warmup\n",
        "\n",
        "total_epochs = 100\n",
        "\n",
        "param_optimizer = list(model.named_parameters())\n",
        "no_decay = ['bias', 'LayerNorm.bias', 'LayerNorm.weight']\n",
        "optimizer_grouped_parameters = [\n",
        "    {'params': [p for n, p in param_optimizer if not any(nd in n for nd in no_decay)], 'weight_decay': 0.01},\n",
        "    {'params': [p for n, p in param_optimizer if any(nd in n for nd in no_decay)], 'weight_decay': 0.0}\n",
        "]\n",
        "optimizer = AdamW(optimizer_grouped_parameters,\n",
        "                  lr=2e-5,\n",
        "                  eps=1e-8)\n",
        "\n",
        "num_train_steps = len(train_dataloader) * total_epochs\n",
        "num_warmup_steps = int(num_train_steps * 0.1) \n",
        "\n",
        "lr_scheduler = get_cosine_schedule_with_warmup(optimizer,\n",
        "                                               num_warmup_steps=num_warmup_steps,\n",
        "                                               num_training_steps = num_train_steps)"
      ]
    },
    {
      "cell_type": "markdown",
      "metadata": {
        "id": "VCflcAnHaOj0",
        "papermill": {
          "duration": 0.017572,
          "end_time": "2021-01-27T07:43:31.057928",
          "exception": false,
          "start_time": "2021-01-27T07:43:31.040356",
          "status": "completed"
        },
        "tags": []
      },
      "source": [
        "### 6. Train & Validation"
      ]
    },
    {
      "cell_type": "code",
      "execution_count": null,
      "metadata": {
        "execution": {
          "iopub.execute_input": "2021-01-27T07:43:31.112201Z",
          "iopub.status.busy": "2021-01-27T07:43:31.111247Z",
          "iopub.status.idle": "2021-01-27T07:43:31.114105Z",
          "shell.execute_reply": "2021-01-27T07:43:31.113605Z"
        },
        "id": "QmLHGSZBaOj0",
        "papermill": {
          "duration": 0.038192,
          "end_time": "2021-01-27T07:43:31.114214",
          "exception": false,
          "start_time": "2021-01-27T07:43:31.076022",
          "status": "completed"
        },
        "tags": []
      },
      "outputs": [],
      "source": [
        "import torch\n",
        "from tqdm.auto import tqdm\n",
        "\n",
        "def train(dataloader, optimizer, scheduler, device_):\n",
        "    global model\n",
        "    model.train()\n",
        "    \n",
        "    prediction_labels = []\n",
        "    true_labels = []\n",
        "    \n",
        "    total_loss = []\n",
        "\n",
        "    progress_bar = tqdm(range(len(dataloader)))\n",
        "    \n",
        "    for batch in dataloader:\n",
        "        true_labels += batch['labels'].numpy().flatten().tolist()\n",
        "        batch = {k:v.type(torch.long).to(device_) for k, v in batch.items()}\n",
        "        \n",
        "        outputs = model(**batch)\n",
        "        loss, logits = outputs[:2]\n",
        "        logits = logits.detach().cpu().numpy()\n",
        "        total_loss.append(loss.item())\n",
        "\n",
        "        progress_bar.update(1)\n",
        "        \n",
        "        optimizer.zero_grad()\n",
        "        loss.backward()\n",
        "        torch.nn.utils.clip_grad_norm_(model.parameters(), 1.0) # prevent exploding gradient\n",
        "\n",
        "        optimizer.step()\n",
        "        scheduler.step()\n",
        "        \n",
        "        prediction_labels += logits.argmax(axis=-1).flatten().tolist()\n",
        "    \n",
        "    return true_labels, prediction_labels, total_loss\n",
        "\n",
        "def validation(dataloader, device_):\n",
        "    global model\n",
        "    model.eval()\n",
        "    \n",
        "    prediction_labels = []\n",
        "    true_labels = []\n",
        "    \n",
        "    total_loss = []\n",
        "\n",
        "    progress_bar = tqdm(range(len(dataloader)))\n",
        "    \n",
        "    for batch in dataloader:\n",
        "        true_labels += batch['labels'].numpy().flatten().tolist()\n",
        "        batch = {k:v.type(torch.long).to(device_) for k, v in batch.items()}\n",
        "        \n",
        "        with torch.no_grad():\n",
        "            outputs = model(**batch)\n",
        "            loss, logits = outputs[:2]\n",
        "            logits = logits.detach().cpu().numpy()\n",
        "            total_loss.append(loss.item())\n",
        "\n",
        "            progress_bar.update(1)\n",
        "\n",
        "            prediction_labels += logits.argmax(axis=-1).flatten().tolist()\n",
        "        \n",
        "    return true_labels, prediction_labels, total_loss"
      ]
    },
    {
      "cell_type": "markdown",
      "metadata": {
        "id": "edJr6k3-aOj0",
        "papermill": {
          "duration": 0.017234,
          "end_time": "2021-01-27T07:43:31.148927",
          "exception": false,
          "start_time": "2021-01-27T07:43:31.131693",
          "status": "completed"
        },
        "tags": []
      },
      "source": [
        "### 7. Run!"
      ]
    },
    {
      "cell_type": "code",
      "execution_count": null,
      "metadata": {
        "colab": {
          "base_uri": "https://localhost:8080/",
          "height": 49,
          "referenced_widgets": [
            "610a7a60e41b4cd9885384a3b1971a76",
            "63e62ad2fa09453f9e5361212aa1602f",
            "79efcf7ad37649b99116a91fe56a27d9",
            "055906d95dbb422eb701022b62ece907",
            "97bc43dd865840d592374b63d7e7f951",
            "56f7c25d2e674166a99385c8f9bf2eaf",
            "69c9fae63b4f4b83bd01547db51e0a50",
            "8220e60e87724ec4aa61a7635c739fd4",
            "19d09451a11948388d35ffa7de6f4b9e",
            "4a81d91785bf4b52833f563303b04011",
            "731f99d0a784453f81c07eb0bd21450c"
          ]
        },
        "execution": {
          "iopub.execute_input": "2021-01-27T07:43:31.201579Z",
          "iopub.status.busy": "2021-01-27T07:43:31.200736Z",
          "iopub.status.idle": "2021-01-27T07:51:40.433984Z",
          "shell.execute_reply": "2021-01-27T07:51:40.434733Z"
        },
        "id": "s1g_PjcIaOj1",
        "outputId": "bf801ce8-537c-4676-c574-3ce3a71fc125",
        "papermill": {
          "duration": 489.268611,
          "end_time": "2021-01-27T07:51:40.434943",
          "exception": false,
          "start_time": "2021-01-27T07:43:31.166332",
          "status": "completed"
        },
        "tags": []
      },
      "outputs": [],
      "source": [
        "from sklearn.metrics import classification_report, accuracy_score\n",
        "\n",
        "device = 'cuda' if torch.cuda.is_available() else 'cpu'\n",
        "model.to(device)\n",
        "\n",
        "all_loss = {'train_loss': [], 'val_loss': []}\n",
        "all_acc = {'train_acc': [], 'val_acc': []}\n",
        "\n",
        "for epoch in range(total_epochs):\n",
        "    y, y_pred, train_loss = train(train_dataloader, optimizer, lr_scheduler, device)\n",
        "    train_acc = accuracy_score(y, y_pred)\n",
        "    \n",
        "    y, y_pred, val_loss = validation(val_dataloader, device)\n",
        "    val_acc = accuracy_score(y, y_pred)\n",
        "    \n",
        "    all_loss['train_loss'] += train_loss\n",
        "    all_loss['val_loss'] += val_loss\n",
        "    \n",
        "    all_acc['train_acc'].append(train_acc)\n",
        "    all_acc['val_acc'].append(val_acc)\n",
        "    \n",
        "    print(f'Epoch: {epoch}, train_loss: {torch.tensor(train_loss).mean():.3f}, train_acc: {train_acc:.3f}, val_loss: {torch.tensor(val_loss).mean():.3f}, val_acc: {val_acc:.3f}') \n",
        "\n",
        "    torch.save({\n",
        "        'epoch': epoch,\n",
        "        'model': model.state_dict(),\n",
        "        'optimizer': optimizer.state_dict(),\n",
        "        'losses': all_loss,\n",
        "        'accuracy': all_acc\n",
        "    }, '/content/drive/MyDrive/model.bin')\n",
        "    print('Saved model')"
      ]
    },
    {
      "cell_type": "markdown",
      "metadata": {
        "id": "fu-W74UIaOj1",
        "papermill": {
          "duration": 0.022288,
          "end_time": "2021-01-27T07:51:40.481299",
          "exception": false,
          "start_time": "2021-01-27T07:51:40.459011",
          "status": "completed"
        },
        "tags": []
      },
      "source": [
        "### 7.1. Check Loss with Graph"
      ]
    },
    {
      "cell_type": "code",
      "execution_count": null,
      "metadata": {
        "execution": {
          "iopub.execute_input": "2021-01-27T07:51:40.541848Z",
          "iopub.status.busy": "2021-01-27T07:51:40.540891Z",
          "iopub.status.idle": "2021-01-27T07:51:41.325215Z",
          "shell.execute_reply": "2021-01-27T07:51:41.325784Z"
        },
        "id": "ul9go6wLaOj1",
        "papermill": {
          "duration": 0.822013,
          "end_time": "2021-01-27T07:51:41.325945",
          "exception": false,
          "start_time": "2021-01-27T07:51:40.503932",
          "status": "completed"
        },
        "tags": []
      },
      "outputs": [],
      "source": [
        "# import matplotlib.pyplot as plt\n",
        "# import seaborn as sns\n",
        "# %matplotlib inline\n",
        "\n",
        "# fig = plt.figure(figsize=(20,20))\n",
        "# a = fig.add_subplot(4, 1, 1)\n",
        "# b = fig.add_subplot(4, 1, 2)\n",
        "# c = fig.add_subplot(2, 1, 2)\n",
        "# a.plot(all_loss['train_loss'])\n",
        "# b.plot(all_loss['val_loss'])\n",
        "# c.plot(all_acc['train_acc'])\n",
        "# c.plot(all_acc['val_acc'])\n",
        "# c.set(xlabel='epoch', ylabel='accuracy')\n",
        "# c.legend(['train', 'val'])\n",
        "\n",
        "# pass"
      ]
    },
    {
      "cell_type": "markdown",
      "metadata": {
        "id": "ogn34nQZaOj1",
        "papermill": {
          "duration": 0.028755,
          "end_time": "2021-01-27T07:51:41.384798",
          "exception": false,
          "start_time": "2021-01-27T07:51:41.356043",
          "status": "completed"
        },
        "tags": []
      },
      "source": [
        "### 8. Run on Test Data"
      ]
    },
    {
      "cell_type": "code",
      "execution_count": null,
      "metadata": {
        "execution": {
          "iopub.execute_input": "2021-01-27T07:51:41.451085Z",
          "iopub.status.busy": "2021-01-27T07:51:41.449947Z",
          "iopub.status.idle": "2021-01-27T07:51:50.204579Z",
          "shell.execute_reply": "2021-01-27T07:51:50.203291Z"
        },
        "id": "PTtOrliRaOj1",
        "papermill": {
          "duration": 8.790848,
          "end_time": "2021-01-27T07:51:50.204705",
          "exception": false,
          "start_time": "2021-01-27T07:51:41.413857",
          "status": "completed"
        },
        "tags": []
      },
      "outputs": [],
      "source": [
        "# _, y_pred, _ = validation(test_dataloader, device)\n",
        "\n",
        "# submit = pd.read_csv('/kaggle/input/nlp-getting-started/sample_submission.csv')\n",
        "# submit['target'] = y_pred\n",
        "\n",
        "# submit.to_csv('submission.csv', index=False)"
      ]
    }
  ],
  "metadata": {
    "accelerator": "GPU",
    "colab": {
      "provenance": []
    },
    "gpuClass": "standard",
    "kernelspec": {
      "display_name": "Python 3",
      "language": "python",
      "name": "python3"
    },
    "language_info": {
      "codemirror_mode": {
        "name": "ipython",
        "version": 3
      },
      "file_extension": ".py",
      "mimetype": "text/x-python",
      "name": "python",
      "nbconvert_exporter": "python",
      "pygments_lexer": "ipython3",
      "version": "3.7.6"
    },
    "papermill": {
      "duration": 539.978426,
      "end_time": "2021-01-27T07:51:51.890823",
      "environment_variables": {},
      "exception": null,
      "input_path": "__notebook__.ipynb",
      "output_path": "__notebook__.ipynb",
      "parameters": {},
      "start_time": "2021-01-27T07:42:51.912397",
      "version": "2.1.0"
    },
    "widgets": {
      "application/vnd.jupyter.widget-state+json": {
        "055906d95dbb422eb701022b62ece907": {
          "model_module": "@jupyter-widgets/controls",
          "model_module_version": "1.5.0",
          "model_name": "HTMLModel",
          "state": {
            "_dom_classes": [],
            "_model_module": "@jupyter-widgets/controls",
            "_model_module_version": "1.5.0",
            "_model_name": "HTMLModel",
            "_view_count": null,
            "_view_module": "@jupyter-widgets/controls",
            "_view_module_version": "1.5.0",
            "_view_name": "HTMLView",
            "description": "",
            "description_tooltip": null,
            "layout": "IPY_MODEL_4a81d91785bf4b52833f563303b04011",
            "placeholder": "​",
            "style": "IPY_MODEL_731f99d0a784453f81c07eb0bd21450c",
            "value": " 176/1500 [07:40&lt;47:41,  2.16s/it]"
          }
        },
        "19d09451a11948388d35ffa7de6f4b9e": {
          "model_module": "@jupyter-widgets/controls",
          "model_module_version": "1.5.0",
          "model_name": "ProgressStyleModel",
          "state": {
            "_model_module": "@jupyter-widgets/controls",
            "_model_module_version": "1.5.0",
            "_model_name": "ProgressStyleModel",
            "_view_count": null,
            "_view_module": "@jupyter-widgets/base",
            "_view_module_version": "1.2.0",
            "_view_name": "StyleView",
            "bar_color": null,
            "description_width": ""
          }
        },
        "4a81d91785bf4b52833f563303b04011": {
          "model_module": "@jupyter-widgets/base",
          "model_module_version": "1.2.0",
          "model_name": "LayoutModel",
          "state": {
            "_model_module": "@jupyter-widgets/base",
            "_model_module_version": "1.2.0",
            "_model_name": "LayoutModel",
            "_view_count": null,
            "_view_module": "@jupyter-widgets/base",
            "_view_module_version": "1.2.0",
            "_view_name": "LayoutView",
            "align_content": null,
            "align_items": null,
            "align_self": null,
            "border": null,
            "bottom": null,
            "display": null,
            "flex": null,
            "flex_flow": null,
            "grid_area": null,
            "grid_auto_columns": null,
            "grid_auto_flow": null,
            "grid_auto_rows": null,
            "grid_column": null,
            "grid_gap": null,
            "grid_row": null,
            "grid_template_areas": null,
            "grid_template_columns": null,
            "grid_template_rows": null,
            "height": null,
            "justify_content": null,
            "justify_items": null,
            "left": null,
            "margin": null,
            "max_height": null,
            "max_width": null,
            "min_height": null,
            "min_width": null,
            "object_fit": null,
            "object_position": null,
            "order": null,
            "overflow": null,
            "overflow_x": null,
            "overflow_y": null,
            "padding": null,
            "right": null,
            "top": null,
            "visibility": null,
            "width": null
          }
        },
        "56f7c25d2e674166a99385c8f9bf2eaf": {
          "model_module": "@jupyter-widgets/base",
          "model_module_version": "1.2.0",
          "model_name": "LayoutModel",
          "state": {
            "_model_module": "@jupyter-widgets/base",
            "_model_module_version": "1.2.0",
            "_model_name": "LayoutModel",
            "_view_count": null,
            "_view_module": "@jupyter-widgets/base",
            "_view_module_version": "1.2.0",
            "_view_name": "LayoutView",
            "align_content": null,
            "align_items": null,
            "align_self": null,
            "border": null,
            "bottom": null,
            "display": null,
            "flex": null,
            "flex_flow": null,
            "grid_area": null,
            "grid_auto_columns": null,
            "grid_auto_flow": null,
            "grid_auto_rows": null,
            "grid_column": null,
            "grid_gap": null,
            "grid_row": null,
            "grid_template_areas": null,
            "grid_template_columns": null,
            "grid_template_rows": null,
            "height": null,
            "justify_content": null,
            "justify_items": null,
            "left": null,
            "margin": null,
            "max_height": null,
            "max_width": null,
            "min_height": null,
            "min_width": null,
            "object_fit": null,
            "object_position": null,
            "order": null,
            "overflow": null,
            "overflow_x": null,
            "overflow_y": null,
            "padding": null,
            "right": null,
            "top": null,
            "visibility": null,
            "width": null
          }
        },
        "610a7a60e41b4cd9885384a3b1971a76": {
          "model_module": "@jupyter-widgets/controls",
          "model_module_version": "1.5.0",
          "model_name": "HBoxModel",
          "state": {
            "_dom_classes": [],
            "_model_module": "@jupyter-widgets/controls",
            "_model_module_version": "1.5.0",
            "_model_name": "HBoxModel",
            "_view_count": null,
            "_view_module": "@jupyter-widgets/controls",
            "_view_module_version": "1.5.0",
            "_view_name": "HBoxView",
            "box_style": "",
            "children": [
              "IPY_MODEL_63e62ad2fa09453f9e5361212aa1602f",
              "IPY_MODEL_79efcf7ad37649b99116a91fe56a27d9",
              "IPY_MODEL_055906d95dbb422eb701022b62ece907"
            ],
            "layout": "IPY_MODEL_97bc43dd865840d592374b63d7e7f951"
          }
        },
        "63e62ad2fa09453f9e5361212aa1602f": {
          "model_module": "@jupyter-widgets/controls",
          "model_module_version": "1.5.0",
          "model_name": "HTMLModel",
          "state": {
            "_dom_classes": [],
            "_model_module": "@jupyter-widgets/controls",
            "_model_module_version": "1.5.0",
            "_model_name": "HTMLModel",
            "_view_count": null,
            "_view_module": "@jupyter-widgets/controls",
            "_view_module_version": "1.5.0",
            "_view_name": "HTMLView",
            "description": "",
            "description_tooltip": null,
            "layout": "IPY_MODEL_56f7c25d2e674166a99385c8f9bf2eaf",
            "placeholder": "​",
            "style": "IPY_MODEL_69c9fae63b4f4b83bd01547db51e0a50",
            "value": " 12%"
          }
        },
        "69c9fae63b4f4b83bd01547db51e0a50": {
          "model_module": "@jupyter-widgets/controls",
          "model_module_version": "1.5.0",
          "model_name": "DescriptionStyleModel",
          "state": {
            "_model_module": "@jupyter-widgets/controls",
            "_model_module_version": "1.5.0",
            "_model_name": "DescriptionStyleModel",
            "_view_count": null,
            "_view_module": "@jupyter-widgets/base",
            "_view_module_version": "1.2.0",
            "_view_name": "StyleView",
            "description_width": ""
          }
        },
        "731f99d0a784453f81c07eb0bd21450c": {
          "model_module": "@jupyter-widgets/controls",
          "model_module_version": "1.5.0",
          "model_name": "DescriptionStyleModel",
          "state": {
            "_model_module": "@jupyter-widgets/controls",
            "_model_module_version": "1.5.0",
            "_model_name": "DescriptionStyleModel",
            "_view_count": null,
            "_view_module": "@jupyter-widgets/base",
            "_view_module_version": "1.2.0",
            "_view_name": "StyleView",
            "description_width": ""
          }
        },
        "79efcf7ad37649b99116a91fe56a27d9": {
          "model_module": "@jupyter-widgets/controls",
          "model_module_version": "1.5.0",
          "model_name": "FloatProgressModel",
          "state": {
            "_dom_classes": [],
            "_model_module": "@jupyter-widgets/controls",
            "_model_module_version": "1.5.0",
            "_model_name": "FloatProgressModel",
            "_view_count": null,
            "_view_module": "@jupyter-widgets/controls",
            "_view_module_version": "1.5.0",
            "_view_name": "ProgressView",
            "bar_style": "",
            "description": "",
            "description_tooltip": null,
            "layout": "IPY_MODEL_8220e60e87724ec4aa61a7635c739fd4",
            "max": 1500,
            "min": 0,
            "orientation": "horizontal",
            "style": "IPY_MODEL_19d09451a11948388d35ffa7de6f4b9e",
            "value": 176
          }
        },
        "8220e60e87724ec4aa61a7635c739fd4": {
          "model_module": "@jupyter-widgets/base",
          "model_module_version": "1.2.0",
          "model_name": "LayoutModel",
          "state": {
            "_model_module": "@jupyter-widgets/base",
            "_model_module_version": "1.2.0",
            "_model_name": "LayoutModel",
            "_view_count": null,
            "_view_module": "@jupyter-widgets/base",
            "_view_module_version": "1.2.0",
            "_view_name": "LayoutView",
            "align_content": null,
            "align_items": null,
            "align_self": null,
            "border": null,
            "bottom": null,
            "display": null,
            "flex": null,
            "flex_flow": null,
            "grid_area": null,
            "grid_auto_columns": null,
            "grid_auto_flow": null,
            "grid_auto_rows": null,
            "grid_column": null,
            "grid_gap": null,
            "grid_row": null,
            "grid_template_areas": null,
            "grid_template_columns": null,
            "grid_template_rows": null,
            "height": null,
            "justify_content": null,
            "justify_items": null,
            "left": null,
            "margin": null,
            "max_height": null,
            "max_width": null,
            "min_height": null,
            "min_width": null,
            "object_fit": null,
            "object_position": null,
            "order": null,
            "overflow": null,
            "overflow_x": null,
            "overflow_y": null,
            "padding": null,
            "right": null,
            "top": null,
            "visibility": null,
            "width": null
          }
        },
        "97bc43dd865840d592374b63d7e7f951": {
          "model_module": "@jupyter-widgets/base",
          "model_module_version": "1.2.0",
          "model_name": "LayoutModel",
          "state": {
            "_model_module": "@jupyter-widgets/base",
            "_model_module_version": "1.2.0",
            "_model_name": "LayoutModel",
            "_view_count": null,
            "_view_module": "@jupyter-widgets/base",
            "_view_module_version": "1.2.0",
            "_view_name": "LayoutView",
            "align_content": null,
            "align_items": null,
            "align_self": null,
            "border": null,
            "bottom": null,
            "display": null,
            "flex": null,
            "flex_flow": null,
            "grid_area": null,
            "grid_auto_columns": null,
            "grid_auto_flow": null,
            "grid_auto_rows": null,
            "grid_column": null,
            "grid_gap": null,
            "grid_row": null,
            "grid_template_areas": null,
            "grid_template_columns": null,
            "grid_template_rows": null,
            "height": null,
            "justify_content": null,
            "justify_items": null,
            "left": null,
            "margin": null,
            "max_height": null,
            "max_width": null,
            "min_height": null,
            "min_width": null,
            "object_fit": null,
            "object_position": null,
            "order": null,
            "overflow": null,
            "overflow_x": null,
            "overflow_y": null,
            "padding": null,
            "right": null,
            "top": null,
            "visibility": null,
            "width": null
          }
        }
      }
    }
  },
  "nbformat": 4,
  "nbformat_minor": 0
}
